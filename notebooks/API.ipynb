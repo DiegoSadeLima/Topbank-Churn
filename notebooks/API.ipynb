{
 "cells": [
  {
   "cell_type": "code",
   "execution_count": null,
   "metadata": {
    "scrolled": true
   },
   "outputs": [],
   "source": [
    "from flask import Flask, request, jsonify\n",
    "from flask_basicauth import BasicAuth\n",
    "from sklearn.model_selection import train_test_split\n",
    "from sklearn.tree import DecisionTreeClassifier\n",
    "import pickle\n",
    "\n",
    "colunas = [\"CreditScore\",\"Geography\",\"Gender\",\"Age\",\"Tenure\",\"Balance\",\n",
    "           \"NumOfProducts\",\"HasCrCard\",\"IsActiveMember\",\"EstimatedSalary\"]\n",
    "\n",
    "\n",
    "modelo = pickle.load(open('modelo.sav','rb'))\n",
    "\n",
    "app = Flask(__name__)\n",
    "\n",
    "\n",
    "@app.route('/Topbank/', methods=['POST'])\n",
    "\n",
    "\n",
    "def Topbank():\n",
    "    dados = request.get_json()\n",
    "    dados_input = [dados[col] for col in colunas]\n",
    "    churn = modelo.predict_proba([dados_input])\n",
    "    return jasonify(churn)\n",
    "\n",
    "app.run(debug=True, \"0.0.0.0\")"
   ]
  },
  {
   "cell_type": "code",
   "execution_count": null,
   "metadata": {},
   "outputs": [],
   "source": []
  },
  {
   "cell_type": "code",
   "execution_count": null,
   "metadata": {},
   "outputs": [],
   "source": []
  },
  {
   "cell_type": "code",
   "execution_count": null,
   "metadata": {},
   "outputs": [],
   "source": []
  }
 ],
 "metadata": {
  "kernelspec": {
   "display_name": "Python 3",
   "language": "python",
   "name": "python3"
  },
  "language_info": {
   "codemirror_mode": {
    "name": "ipython",
    "version": 3
   },
   "file_extension": ".py",
   "mimetype": "text/x-python",
   "name": "python",
   "nbconvert_exporter": "python",
   "pygments_lexer": "ipython3",
   "version": "3.8.3"
  }
 },
 "nbformat": 4,
 "nbformat_minor": 4
}
